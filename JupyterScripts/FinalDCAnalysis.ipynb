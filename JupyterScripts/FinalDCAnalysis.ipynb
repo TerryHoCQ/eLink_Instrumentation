{
 "cells": [
  {
   "cell_type": "code",
   "execution_count": 2,
   "id": "377ce0f7-0cf5-449d-91d1-7279b389ca77",
   "metadata": {},
   "outputs": [],
   "source": [
    "import matplotlib.pyplot as plt\n",
    "import numpy as np\n",
    "import pandas as pd\n",
    "from iminuit import Minuit\n",
    "from pylab import *\n",
    "from pprint import pprint\n",
    "\n",
    "#\n",
    "#\n",
    "# This first block will simply read our data as an excel file (dataframe object)\n",
    "# and then convert it to an array we can work with in numpy\n",
    "\n",
    "excel = pd.read_excel (r'C:\\Users\\bruen\\Coding_Projects\\Data_Analysis\\DC4ptResistance\\DC4pt_Data.xlsx')\n",
    "#excel2 = pd.read_excel (r'C:\\Users\\bruen\\DC4ptAnalysis\\SimplifiedData.xlsx')\n",
    "\n",
    "data = excel.to_numpy() # Converts data from a dataframe to an array\n",
    "#data2 = excel2.to_numpy()\n",
    "data1 = data[:,0:10]\n",
    "\n",
    "#display(excel1)"
   ]
  },
  {
   "cell_type": "code",
   "execution_count": 3,
   "id": "844b6bcb-8a9e-419a-b9b1-ef17ad943125",
   "metadata": {},
   "outputs": [],
   "source": [
    "# This block will slice our data into the specific rows and column we want to plot\n",
    "\n",
    "p_three_five = data1[0:5] # Slicing our arrays based on their lengths\n",
    "p_eight_zero = data1[5:10]\n",
    "one_p_zero = data1[10:15]\n",
    "one_p_four = data1[15:20]\n",
    "one_p_six = data1[20:32]\n",
    "one_p_eight = data1[32:41]\n",
    "two_p_zero = data1[41:44]\n",
    "\n",
    "# Slice our data into specific channels\n",
    "\n",
    "D3_1 = p_three_five[:,0:2]\n",
    "D2_1 = p_three_five[:,2:4] # We now have 5 arrays for the .35 meter e-links separated into their different channels\n",
    "D1_1 = p_three_five[:,4:6]\n",
    "D0_1 = p_three_five[:,6:8]\n",
    "CMD_1 = p_three_five[:,8:10]\n",
    "\n",
    "D3_2 = p_eight_zero[:,0:2] # .8 meter wire\n",
    "D2_2 = p_eight_zero[:,2:4]\n",
    "D1_2 = p_eight_zero[:,4:6]\n",
    "D0_2 = p_eight_zero[:,6:8]\n",
    "CMD_2 = p_eight_zero[:,8:10]\n",
    "\n",
    "D3_3 = one_p_zero[:,0:2] # 1 meter wire\n",
    "D2_3 = one_p_zero[:,2:4]\n",
    "D1_3 = one_p_zero[:,4:6]\n",
    "D0_3 = one_p_zero[:,6:8]\n",
    "CMD_3 = one_p_zero[:,8:10]\n",
    "\n",
    "D3_4 = one_p_four[:,0:2] # 1.4 meter wire\n",
    "D2_4 = one_p_four[:,2:4]\n",
    "D1_4 = one_p_four[:,4:6]\n",
    "D0_4 = one_p_four[:,6:8]\n",
    "CMD_4 = one_p_four[:,8:10]\n",
    "\n",
    "D3_5 = one_p_six[:,0:2] # 1.6 meter wire\n",
    "D2_5 = one_p_six[:,2:4]\n",
    "D1_5 = one_p_six[:,4:6]\n",
    "D0_5 = one_p_six[:,6:8]\n",
    "CMD_5 = one_p_six[:,8:10]\n",
    "\n",
    "D3_6 = one_p_eight[:,0:2] # 1.8 meter wire\n",
    "D2_6 = one_p_eight[:,2:4]\n",
    "D1_6 = one_p_eight[:,4:6]\n",
    "D0_6 = one_p_eight[:,6:8]\n",
    "CMD_6 = one_p_eight[:,8:10]\n",
    "\n",
    "D3_7 = two_p_zero[:,0:2] # 2 meter wire\n",
    "D2_7 = two_p_zero[:,2:4]\n",
    "D1_7 = two_p_zero[:,4:6]\n",
    "D0_7 = two_p_zero[:,6:8]\n",
    "CMD_7 = two_p_zero[:,8:10]\n"
   ]
  },
  {
   "cell_type": "code",
   "execution_count": 4,
   "id": "b781ffea-5d8e-45fd-b544-17ffa1adb2d0",
   "metadata": {},
   "outputs": [
    {
     "data": {
      "text/plain": [
       "<ErrorbarContainer object of 3 artists>"
      ]
     },
     "execution_count": 4,
     "metadata": {},
     "output_type": "execute_result"
    },
    {
     "data": {
      "image/png": "[encoded data removed]",
      "text/plain": [
       "<Figure size 432x288 with 2 Axes>"
      ]
     },
     "metadata": {
      "needs_background": "light"
     },
     "output_type": "display_data"
    }
   ],
   "source": [
    "# In this block, we can calculate our averages or errors for any of the arrays above\n",
    "# We can plot these values against specific length or channels\n",
    "\n",
    "# Averages over each different length\n",
    "avg1 = np.mean(p_three_five)\n",
    "avg2 = np.mean(p_eight_zero)\n",
    "avg3 = np.mean(one_p_zero)\n",
    "avg4 = np.mean(one_p_four)\n",
    "avg5 = np.mean(one_p_six)\n",
    "avg6 = np.mean(one_p_eight)\n",
    "avg7 = np.mean(two_p_zero)\n",
    "\n",
    "avgs_over_lengths = np.array([avg1,avg2,avg3,avg4,avg5,avg6,avg7]) # Creates an array of our averages\n",
    "\n",
    "# Errors for the average resistance in each length\n",
    "std1 = np.std(p_three_five)\n",
    "std2 = np.std(p_eight_zero)\n",
    "std3 = np.std(one_p_zero)\n",
    "std4 = np.std(one_p_four)\n",
    "std5 = np.std(one_p_six)\n",
    "std6 = np.std(one_p_eight)\n",
    "std7 = np.std(two_p_zero)\n",
    "err1 = std1 / (np.sqrt(p_three_five.size))\n",
    "err2 = std2 / (np.sqrt(p_eight_zero.size))\n",
    "err3 = std3 / (np.sqrt(one_p_zero.size))\n",
    "err4 = std4 / (np.sqrt(one_p_four.size))\n",
    "err5 = std5 / (np.sqrt(one_p_six.size))\n",
    "err6 = std6 / (np.sqrt(one_p_eight.size))\n",
    "err7 = std7 / (np.sqrt(two_p_zero.size))\n",
    "\n",
    "error_eachlength = np.array([err1,err2,err3,err4,err5,err6,err7])\n",
    "\n",
    "# Change digit after underscore to calculate error for a different wire\n",
    "error_1 = np.array([np.std(D0_1)/((D0_1.size)^2),np.std(D1_1)/((D1_1.size)^2),np.std(D2_1)/((D2_1.size)^2),np.std(D3_1)/((D3_1.size)^2),np.std(CMD_1)/((CMD_1.size)^2)])\n",
    "\n",
    "# To change plot 2 to a different wire, change the digit after the underscore\n",
    "avg_overchannel1 = np.array([np.mean(D0_1),np.mean(D1_1),np.mean(D2_1),np.mean(D3_1),np.mean(CMD_1)])\n",
    "\n",
    "\n",
    "# Creating both of our y axes\n",
    "lengths = np.array([.35,.80,1.00,1.40,1.60,1.80,2.00], dtype=float)\n",
    "channels = np.array([1,2,3,4,5])\n",
    "\n",
    "fig, ax = plt.subplots(2,1) # Creates a 2 row 1 column figure space for us to plot in\n",
    "fig.tight_layout(pad=3)\n",
    "\n",
    "# First plot, average resistance vs lengths\n",
    "ax[0].errorbar(lengths,avgs_over_lengths,yerr=error_eachlength,capsize=5,fmt='o')\n",
    "\n",
    "# Second plot: average resistance vs channels for shortest wire\n",
    "# ax[1].errorbar(channels,avg_overchannel1,yerr=error_1,capsize=5,fmt='o')\n",
    "    "
   ]
  },
  {
   "cell_type": "code",
   "execution_count": 5,
   "id": "01c65389-f3e6-437b-9a7f-14450a906a20",
   "metadata": {},
   "outputs": [
    {
     "name": "stderr",
     "output_type": "stream",
     "text": [
      "C:\\Users\\bruen\\AppData\\Local\\Temp\\ipykernel_10984\\3111158895.py:18: IMinuitWarning: errordef not set, using 1 (appropriate for least-squares)\n",
      "  m.migrad() # finds minimum of least_squares function\n"
     ]
    },
    {
     "name": "stdout",
     "output_type": "stream",
     "text": [
      " \n",
      " Fitting parameters\n",
      "a = 0.818062128335443 +- 0.014457893416075914\n",
      "b = 1.4665916128481316 +- 0.010402208497559351\n",
      "[0.00545673 0.00536577 0.04591949 0.02069449 0.00415915 0.01357727\n",
      " 0.0091578 ]\n",
      " \n",
      "chi square: 13.315041253103844\n",
      "number of degrees of freedom: 5\n",
      "reduced chi square: 2.663008250620769\n"
     ]
    },
    {
     "data": {
      "image/png": "[encoded data removed]",
      "text/plain": [
       "<Figure size 432x288 with 1 Axes>"
      ]
     },
     "metadata": {
      "needs_background": "light"
     },
     "output_type": "display_data"
    }
   ],
   "source": [
    "# This final block will perform a linear fit over the resistance vs length column\n",
    "\n",
    "# Define a few dummy error functions to test if our fit is working\n",
    "dummy1 = np.array([.2,.2,.2,.2,.2,.2,.2])\n",
    "dummy2 = np.array([.025,.025,.025,.025,.025,.025,.025])\n",
    "dummy3 = np.array([.1,.1,.1,.1,.1,.1,.1])\n",
    "tfpx_error = .015\n",
    "\n",
    "# We first define our linear fit and our chi squared function\n",
    "# Linear fit function\n",
    "def model(x,a,b):\n",
    "    return a + b*x \n",
    "# Chi squared function\n",
    "def least_squares(a,b):\n",
    "    return sum(((avgs_over_lengths - model(lengths,a,b))**2 / tfpx_error**2))\n",
    "\n",
    "m = Minuit(least_squares,a=0,b=0)\n",
    "m.migrad() # finds minimum of least_squares function\n",
    "m.hesse() # computes errors\n",
    "\n",
    "plt.errorbar(lengths,avgs_over_lengths,yerr=tfpx_error, fmt=\"o\", label=\"data\")\n",
    "plt.plot(lengths, model(lengths, *m.values), label=\"fit\")\n",
    "plt.xlabel('Lengths (meters)',fontsize=16)\n",
    "plt.ylabel('Average Resistance (Ω)',fontsize=16)\n",
    "plt.title('Resistance as a Function of Length',fontsize=21)\n",
    "plt.xticks(fontsize = 15)\n",
    "plt.yticks(fontsize = 15)\n",
    "fit_info = [ f\"$\\\\chi^2$ / $n_\\\\mathrm{{dof}}$ = {m.fval:.1f} / {len(lengths) - m.nfit}\",]\n",
    "for p, v, e in zip(m.parameters, m.values, m.errors):\n",
    "    fit_info.append(f\"{p} = ${v:.2f} \\\\pm {e:.2f}$\")\n",
    "\n",
    "plt.legend(title=\"\\n\".join(fit_info));\n",
    "\n",
    "print(' ')\n",
    "print(' Fitting parameters')\n",
    "for p in m.parameters:\n",
    "    print(\"{} = {} +- {}\".format(p,m.values[p], m.errors[p]))\n",
    "    \n",
    "print(error_eachlength)\n",
    "\n",
    "print(' ')\n",
    "print('chi square:', m.fval)\n",
    "print('number of degrees of freedom:', (len(avgs_over_lengths)- len(m.parameters)))\n",
    "print('reduced chi square:', m.fval / (len(avgs_over_lengths) - len(m.parameters)) )\n",
    "\n",
    "show()\n",
    "\n"
   ]
  },
  {
   "cell_type": "code",
   "execution_count": null,
   "id": "236fa864-d3fd-4abf-9680-4f09d45af197",
   "metadata": {},
   "outputs": [],
   "source": []
  }
 ],
 "metadata": {
  "kernelspec": {
   "display_name": "Python 3.9.12 ('base')",
   "language": "python",
   "name": "python3"
  },
  "language_info": {
   "codemirror_mode": {
    "name": "ipython",
    "version": 3
   },
   "file_extension": ".py",
   "mimetype": "text/x-python",
   "name": "python",
   "nbconvert_exporter": "python",
   "pygments_lexer": "ipython3",
   "version": "3.9.12"
  },
  "vscode": {
   "interpreter": {
    "hash": "28d6d9e31a694f2aba28d42b1019d9365f56410d563150feaee59905aa4508a9"
   }
  }
 },
 "nbformat": 4,
 "nbformat_minor": 5
}

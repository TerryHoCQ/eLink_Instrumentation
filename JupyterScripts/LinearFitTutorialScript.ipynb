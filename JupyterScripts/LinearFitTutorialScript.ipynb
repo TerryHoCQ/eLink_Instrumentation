{
 "cells": [
  {
   "cell_type": "markdown",
   "metadata": {},
   "source": [
    "Tutorial on how to perform a linear fit of data using the iminuit library"
   ]
  },
  {
   "cell_type": "code",
   "execution_count": 4,
   "metadata": {},
   "outputs": [
    {
     "name": "stderr",
     "output_type": "stream",
     "text": [
      "C:\\Users\\bruen\\AppData\\Local\\Temp\\ipykernel_33296\\3258939277.py:31: IMinuitWarning: errordef not set, using 1 (appropriate for least-squares)\n",
      "  m.migrad() # finds minimum of least_squares function\n"
     ]
    },
    {
     "data": {
      "image/png": "[encoded data removed]",
      "text/plain": [
       "<Figure size 432x288 with 1 Axes>"
      ]
     },
     "metadata": {
      "needs_background": "light"
     },
     "output_type": "display_data"
    }
   ],
   "source": [
    "# You will need 5 libraries\n",
    "from distutils.log import error\n",
    "import matplotlib.pyplot as plt\n",
    "import numpy as np\n",
    "import pandas as pd\n",
    "from iminuit import Minuit\n",
    "from pylab import *\n",
    "from pprint import pprint\n",
    "\n",
    "# Lets make up some (almost) linear data to work with \n",
    "x_data = np.linspace(1,10,10)\n",
    "y_data = np.linspace(1,30,10)\n",
    "# Set a dummy error, this is usually calculated from the data set\n",
    "error = .2\n",
    "\n",
    "# Following good coding practices it is usually wise to define our functions first\n",
    "\n",
    "# We first define our linear fit and our chi squared function\n",
    "\n",
    "# Linear fit function\n",
    "def model(x,a,b):\n",
    "    return a + b*x \n",
    "# Chi squared function\n",
    "def least_squares(a,b):\n",
    "    return sum(((y_data - model(x_data,a,b))**2 / error**2))\n",
    "\n",
    "# We can now call the \"Minuit\" module to perform our fit and grab our values\n",
    "# Takes 3 arguments, initial slope and intercept (can be anything) and a function that\n",
    "# determines how accurate our fit is\n",
    "m = Minuit(least_squares,a=0,b=0)\n",
    "m.migrad() # finds minimum of least_squares function\n",
    "m.hesse() # computes errors\n",
    "\n",
    "plt.plot(x_data, model(x_data, *m.values), label=\"fit\")\n",
    "# Our fit is now complete, the rest of this script is dedicated to printing out the parameter values\n",
    "# in a sleek format using the pprint library\n",
    "\n",
    "# This line marks and labels our data points and displays error bars\n",
    "plt.errorbar(x_data,y_data,yerr=error, fmt=\"o\", label=\"data\")\n",
    "\n",
    "# Next lines are filled with fancy string formatting, returns a nice box located in the top left of your graph\n",
    "# with parameter values and reduced chi squared value in it\n",
    "fit_info = [ f\"$\\\\chi^2$ / $n_\\\\mathrm{{dof}}$ = {m.fval:.1f} / {len(x_data) - m.nfit}\",]\n",
    "for p, v, e in zip(m.parameters, m.values, m.errors):\n",
    "    fit_info.append(f\"{p} = ${v:.3f} \\\\pm {e:.3f}$\")\n",
    "\n",
    "plt.legend(title=\"\\n\".join(fit_info));\n",
    "\n"
   ]
  }
 ],
 "metadata": {
  "kernelspec": {
   "display_name": "Python 3.9.12 ('base')",
   "language": "python",
   "name": "python3"
  },
  "language_info": {
   "codemirror_mode": {
    "name": "ipython",
    "version": 3
   },
   "file_extension": ".py",
   "mimetype": "text/x-python",
   "name": "python",
   "nbconvert_exporter": "python",
   "pygments_lexer": "ipython3",
   "version": "3.9.12"
  },
  "orig_nbformat": 4,
  "vscode": {
   "interpreter": {
    "hash": "28d6d9e31a694f2aba28d42b1019d9365f56410d563150feaee59905aa4508a9"
   }
  }
 },
 "nbformat": 4,
 "nbformat_minor": 2
}

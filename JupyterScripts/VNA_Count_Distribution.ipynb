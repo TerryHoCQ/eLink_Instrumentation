{
 "cells": [
  {
   "cell_type": "code",
   "execution_count": 3,
   "metadata": {},
   "outputs": [
    {
     "name": "stdout",
     "output_type": "stream",
     "text": [
      "CMD: [120.0 127.0 120.38 119.01 112.34 125.0 120.0 134.0 130.0 129.52 129.0\n",
      " 135.28 106.0 121.0 132.0 130.48 130.22 131.14 124.0 132.18 120.0 119.94\n",
      " 123.18 119.0 114.0 117.0 120.66 120.0 121.0 121.0 125.0 121.0 126.0 125.0\n",
      " 124.0 126.52 127.11 125.0 124.0 121.0 122.51 123.0]\n",
      "mean: 123.7\n",
      "std: 5.8\n"
     ]
    },
    {
     "data": {
      "image/png": "[encoded data removed]",
      "text/plain": [
       "<Figure size 504x360 with 1 Axes>"
      ]
     },
     "metadata": {
      "needs_background": "light"
     },
     "output_type": "display_data"
    }
   ],
   "source": [
    "from re import L\n",
    "import matplotlib.pyplot as plt\n",
    "import numpy as np\n",
    "import pandas as pd\n",
    "import seaborn as sns\n",
    "\n",
    "#excel = pd.read_excel (r'/Users/caleb/CMS/Tracker/e-links/eLink_Instrumentation/JupyterScripts/VNAvt_Data.xlsx')\n",
    "excel = pd.read_excel (r'/Users/caleb/CMS/Tracker/e-links/eLink_Instrumentation/JupyterScripts/VNA2to5ns_Data.xlsx')\n",
    "\n",
    "data1 = excel.to_numpy() #Convert to numpy array\n",
    "\n",
    "# I want to see the distribution of every cable plotted around the mean of the\n",
    "# CMD channel for VNA tests\n",
    "# CMD channel is located in the first column\n",
    "CMD = data1[:,0]\n",
    "\n",
    "mean = np.mean(CMD)\n",
    "std = np.std(CMD)\n",
    "\n",
    "print(\"CMD: {0}\".format(CMD))\n",
    "print(\"mean: {0:.1f}\".format(mean))\n",
    "print(\"std: {0:.1f}\".format(std))\n",
    "\n",
    "g = sns.displot(\n",
    "    data = data1,\n",
    "    x = CMD,\n",
    "    kind = \"hist\",\n",
    "    aspect = 1.4,\n",
    "    color = \"dodgerblue\",\n",
    "    multiple = \"stack\",\n",
    "    palette = 'Dark2',\n",
    "    element = 'bars',\n",
    "    binwidth = 5,\n",
    "    legend = False,\n",
    "    )\n",
    "g.set_xlabels(\"Impedance Measured (Ω)\", fontsize = 16)\n",
    "g.set_ylabels(\"Counts\", fontsize = 16)\n",
    "plt.xticks(fontsize = 15)\n",
    "plt.yticks(fontsize = 15)\n",
    "\n",
    "\n",
    "\n",
    "g.refline(x = mean + std,color = \"k\",label= \"$\\\\sigma$\",alpha = 0.5)\n",
    "g.refline(x = mean - std,color = \"k\",alpha = 0.5)\n",
    "g.refline(x = mean, color = \"k\", ls = \"-\",label = \"$\\\\mu$\",alpha = 0.8)\n",
    "\n",
    "fit_info = [f\"$\\\\mu$ = {mean:.0f}\",f\"$\\\\sigma$ = {std:.0f}\"]\n",
    "\n",
    "\n",
    "\n",
    "plt.legend(title=\"\\n\".join(fit_info),fontsize=15);"
   ]
  }
 ],
 "metadata": {
  "kernelspec": {
   "display_name": "Python 3.9.7 64-bit",
   "language": "python",
   "name": "python3"
  },
  "language_info": {
   "codemirror_mode": {
    "name": "ipython",
    "version": 3
   },
   "file_extension": ".py",
   "mimetype": "text/x-python",
   "name": "python",
   "nbconvert_exporter": "python",
   "pygments_lexer": "ipython3",
   "version": "3.0.0"
  },
  "orig_nbformat": 4,
  "vscode": {
   "interpreter": {
    "hash": "b0fa6594d8f4cbf19f97940f81e996739fb7646882a419484c72d19e05852a7e"
   }
  }
 },
 "nbformat": 4,
 "nbformat_minor": 2
}
